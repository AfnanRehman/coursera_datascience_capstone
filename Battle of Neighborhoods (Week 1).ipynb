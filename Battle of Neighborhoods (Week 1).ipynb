{
 "cells": [
  {
   "cell_type": "markdown",
   "metadata": {},
   "source": [
    "<h1>Introduction/Business Problem</h1>"
   ]
  },
  {
   "cell_type": "markdown",
   "metadata": {},
   "source": [
    "The problem I am trying to solve is one of correlating user data to venue data. What types of users frequent which kinds of restaurants? To narrow the scope and keep it relevant to the audience I will specify it to be of the category \"Asian Restaurant\". This type of analysis could aid in marketing efforts of a variety of locations in the area of focus. \n",
    "   \n",
    "For this analysis I will focus on the area of Manhattan, New York. Specifically in the areas around the Empire State Building, where foot traffic and tourism would be most densely concentrated. \n",
    "\n",
    "My audience of stakeholders would be would be owners of Japanese cuisine restaurants in the Manhattan area, both local and chain restaurants that could benefit from this data to improve their targeted marketing. I th"
   ]
  },
  {
   "cell_type": "markdown",
   "metadata": {},
   "source": [
    "<h1>Data</h1>"
   ]
  },
  {
   "cell_type": "markdown",
   "metadata": {},
   "source": [
    "Data will be taken from the Foursquare database and primarily use the Venues and Users endpoints for the requests. Data will be matched based on the Check-in data to get details for the restaurant and the user in order to establish a connection. We will then establish counts for things like male/female patrons, home cities, friend counts, and so on. \n",
    "\n",
    "Based on our definition of the problem, the following data sources will be needed:\n",
    "* Candidate areas based on a radius surrounding a central location (in our case the Empire State Building)\n",
    "* Number of restaurants and their locations based on the Foursquare API calls\n",
    "* User data matched from check-ins to those restarants, matched by unique ids provided by Foursquare"
   ]
  },
  {
   "cell_type": "code",
   "execution_count": null,
   "metadata": {},
   "outputs": [],
   "source": []
  }
 ],
 "metadata": {
  "kernelspec": {
   "display_name": "Python 3",
   "language": "python",
   "name": "python3"
  },
  "language_info": {
   "codemirror_mode": {
    "name": "ipython",
    "version": 3
   },
   "file_extension": ".py",
   "mimetype": "text/x-python",
   "name": "python",
   "nbconvert_exporter": "python",
   "pygments_lexer": "ipython3",
   "version": "3.7.3"
  }
 },
 "nbformat": 4,
 "nbformat_minor": 2
}
